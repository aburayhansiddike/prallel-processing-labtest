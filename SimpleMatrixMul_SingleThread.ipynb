{
  "nbformat": 4,
  "nbformat_minor": 0,
  "metadata": {
    "colab": {
      "provenance": [],
      "gpuType": "T4"
    },
    "kernelspec": {
      "name": "python3",
      "display_name": "Python 3"
    },
    "language_info": {
      "name": "python"
    },
    "accelerator": "GPU"
  },
  "cells": [
    {
      "cell_type": "code",
      "source": [
        "%%writefile kernel.cu\n",
        "#include <iostream>\n",
        "#include <cuda_runtime.h>\n",
        "using namespace std;\n",
        "\n",
        "__global__ void matrixMulKernel(float *A, float *B, float *C, int M, int N, int P, int offset) {\n",
        "    int k = threadIdx.x + offset;\n",
        "\n",
        "    float *a = A + k * M * N;\n",
        "    float *b = B + k * N * P;\n",
        "    float *c = C + k * M * P;\n",
        "\n",
        "    for (int i = 0; i < M; i++) {\n",
        "        for (int j = 0; j < N; j++) {\n",
        "            for (int l = 0; l < P; l++) {\n",
        "                c[i * P + l] += a[i * N + j] * b[j * P + l];\n",
        "            }\n",
        "        }\n",
        "    }\n",
        "\n",
        "    A = > sobai mile\n",
        "    a => akhon kon matrix er kaj hobe\n",
        "\n",
        "    1st matrix => A + 0 * M * N = A\n",
        "    2nd matrix => A + 1 * M * N\n",
        "    3rd matrix => A + 2 * M * N\n",
        "\n",
        "    float* A =>  all matrix aksathe ache\n",
        "    A[0] = > matrix[0]  er starting\n",
        "    A[M*N] => matrix[1] starting\n",
        "\n",
        "}\n",
        "\n",
        "int main(int argc, char *argv[]) {\n",
        "    if (argc < 3) {\n",
        "        cout << \"Usage: \" << argv[0] << \" <num_matrices> <max_threads>\" << endl;\n",
        "        return 1;\n",
        "    }\n",
        "\n",
        "    int K = stoi(argv[1]);  // number of matrices\n",
        "    int x = stoi(argv[2]);  // number of threads\n",
        "\n",
        "\n",
        "    int M = 400, N = 400, P = 400;\n",
        "    int sizeA = K * M * N * sizeof(float); //how many byte in matrix A,  ( * K)\n",
        "    int sizeB = K * N * P * sizeof(float);\n",
        "    int sizeC = K * M * P * sizeof(float);\n",
        "\n",
        "    float *h_A = new float[K * M * N];\n",
        "    float *h_B = new float[K * N * P];\n",
        "    float *h_C = new float[K * M * P];\n",
        "\n",
        "    // random initialization\n",
        "    for (int i = 0; i < K * M * N; i++) h_A[i] = rand();\n",
        "    for (int i = 0; i < K * N * P; i++) h_B[i] = rand();\n",
        "\n",
        "    //copy data to device\n",
        "    float *d_A, *d_B, *d_C;\n",
        "    cudaMalloc(&d_A, sizeA);\n",
        "    cudaMalloc(&d_B, sizeB);\n",
        "    cudaMalloc(&d_C, sizeC);\n",
        "\n",
        "    cudaMemcpy(d_A, h_A, sizeA, cudaMemcpyHostToDevice);\n",
        "    cudaMemcpy(d_B, h_B, sizeB, cudaMemcpyHostToDevice);\n",
        "\n",
        "    matrixMulKernel<<<1, K>>>(d_A, d_B, d_C, M, N, P);\n",
        "    cudaDeviceSynchronize();\n",
        "\n",
        "\n",
        "\n",
        "    // launch kernel\n",
        "    // We have to process batch by batch\n",
        "    // as we may not have enough threads to process all matrices at once\n",
        "    for (int i = 0; i < K; i += x) {\n",
        "        int currentBatchSize = min(x, K - i);\n",
        "        printf(\"Processing matrixs from %d to %d\\n\", i, i + currentBatchSize - 1);\n",
        "\n",
        "    }\n",
        "\n",
        "    //sync & copy\n",
        "    cudaMemcpy(h_C, d_C, sizeC, cudaMemcpyDeviceToHost);\n",
        "\n",
        "    // Output results\n",
        "    /*\n",
        "    for (int k = 0; k < K; k++) {\n",
        "        cout << \"Matrix C[\" << k << \"]: \" << endl;\n",
        "        for (int i = 0; i < M; i++) {\n",
        "            for (int j = 0; j < P; j++) {\n",
        "                cout << h_C[k * M * P + i * P + j] << \" \";\n",
        "            }\n",
        "            cout << endl;\n",
        "        }\n",
        "        cout << endl;\n",
        "    }\n",
        "    */\n",
        "    cout << \"All multiplications completed successfully!\" << endl;\n",
        "\n",
        "    delete[] h_A;\n",
        "    delete[] h_B;\n",
        "    delete[] h_C;\n",
        "    cudaFree(d_A);\n",
        "    cudaFree(d_B);\n",
        "    cudaFree(d_C);\n",
        "\n",
        "}"
      ],
      "metadata": {
        "colab": {
          "base_uri": "https://localhost:8080/"
        },
        "id": "Umq3T89CBBS6",
        "outputId": "17790063-23ca-4a4d-a282-5638c03ccc1f"
      },
      "execution_count": null,
      "outputs": [
        {
          "output_type": "stream",
          "name": "stdout",
          "text": [
            "Writing kernel.cu\n"
          ]
        }
      ]
    },
    {
      "cell_type": "code",
      "source": [
        "!nvcc -arch=sm_75 kernel.cu -o kernel"
      ],
      "metadata": {
        "id": "OhOnv5_8BXbd"
      },
      "execution_count": null,
      "outputs": []
    },
    {
      "cell_type": "code",
      "source": [
        "!time ./kernel 10 1"
      ],
      "metadata": {
        "id": "zL3K8sMg5wFy",
        "colab": {
          "base_uri": "https://localhost:8080/"
        },
        "outputId": "c99abe24-916f-41dd-fc45-79a3605d2cf0"
      },
      "execution_count": null,
      "outputs": [
        {
          "output_type": "stream",
          "name": "stdout",
          "text": [
            "Processing matrixs from 0 to 0\n",
            "Processing matrixs from 1 to 1\n",
            "Processing matrixs from 2 to 2\n",
            "Processing matrixs from 3 to 3\n",
            "Processing matrixs from 4 to 4\n",
            "Processing matrixs from 5 to 5\n",
            "Processing matrixs from 6 to 6\n",
            "Processing matrixs from 7 to 7\n",
            "Processing matrixs from 8 to 8\n",
            "Processing matrixs from 9 to 9\n",
            "All multiplications completed successfully!\n",
            "\n",
            "real\t0m11.518s\n",
            "user\t0m11.110s\n",
            "sys\t0m0.181s\n"
          ]
        }
      ]
    },
    {
      "cell_type": "code",
      "source": [
        "!time ./kernel 10 2"
      ],
      "metadata": {
        "colab": {
          "base_uri": "https://localhost:8080/"
        },
        "id": "GW8GnbqPSkHQ",
        "outputId": "8f25252a-b83a-4ebe-b24c-28b8a3a4bb6b"
      },
      "execution_count": null,
      "outputs": [
        {
          "output_type": "stream",
          "name": "stdout",
          "text": [
            "Processing matrixs from 0 to 1\n",
            "Processing matrixs from 2 to 3\n",
            "Processing matrixs from 4 to 5\n",
            "Processing matrixs from 6 to 7\n",
            "Processing matrixs from 8 to 9\n",
            "All multiplications completed successfully!\n",
            "\n",
            "real\t0m6.115s\n",
            "user\t0m5.462s\n",
            "sys\t0m0.169s\n"
          ]
        }
      ]
    },
    {
      "cell_type": "code",
      "source": [
        "!time ./kernel 10 3"
      ],
      "metadata": {
        "colab": {
          "base_uri": "https://localhost:8080/"
        },
        "id": "wCW9bAVWTJ1h",
        "outputId": "029400cc-3d27-4a07-c61b-7ec58618f658"
      },
      "execution_count": null,
      "outputs": [
        {
          "output_type": "stream",
          "name": "stdout",
          "text": [
            "Processing matrixs from 0 to 2\n",
            "Processing matrixs from 3 to 5\n",
            "Processing matrixs from 6 to 8\n",
            "Processing matrixs from 9 to 9\n",
            "All multiplications completed successfully!\n",
            "\n",
            "real\t0m4.921s\n",
            "user\t0m4.676s\n",
            "sys\t0m0.154s\n"
          ]
        }
      ]
    },
    {
      "cell_type": "code",
      "source": [
        "!time ./kernel 10 4"
      ],
      "metadata": {
        "colab": {
          "base_uri": "https://localhost:8080/"
        },
        "id": "PyeuY3p3TNAA",
        "outputId": "3662712d-d7d6-47ae-bc40-9c77a1a0379d"
      },
      "execution_count": null,
      "outputs": [
        {
          "output_type": "stream",
          "name": "stdout",
          "text": [
            "Processing matrixs from 0 to 3\n",
            "Processing matrixs from 4 to 7\n",
            "Processing matrixs from 8 to 9\n",
            "All multiplications completed successfully!\n",
            "\n",
            "real\t0m3.817s\n",
            "user\t0m3.601s\n",
            "sys\t0m0.155s\n"
          ]
        }
      ]
    },
    {
      "cell_type": "code",
      "source": [
        "!time ./kernel 10 10"
      ],
      "metadata": {
        "id": "kOviplgBTRtJ",
        "colab": {
          "base_uri": "https://localhost:8080/"
        },
        "outputId": "3c952188-247c-4bd7-bccf-3d567dbbd0a9"
      },
      "execution_count": null,
      "outputs": [
        {
          "output_type": "stream",
          "name": "stdout",
          "text": [
            "Processing matrixs from 0 to 9\n",
            "All multiplications completed successfully!\n",
            "\n",
            "real\t0m1.885s\n",
            "user\t0m1.744s\n",
            "sys\t0m0.132s\n"
          ]
        }
      ]
    },
    {
      "cell_type": "code",
      "source": [
        "!time ./kernel 10 15"
      ],
      "metadata": {
        "colab": {
          "base_uri": "https://localhost:8080/"
        },
        "id": "5NJr3GOE2Kg8",
        "outputId": "7f38e581-98f0-40e2-afac-277c1fc4ddc5"
      },
      "execution_count": null,
      "outputs": [
        {
          "output_type": "stream",
          "name": "stdout",
          "text": [
            "Processing matrixs from 0 to 9\n",
            "All multiplications completed successfully!\n",
            "\n",
            "real\t0m1.878s\n",
            "user\t0m1.750s\n",
            "sys\t0m0.121s\n"
          ]
        }
      ]
    },
    {
      "cell_type": "code",
      "source": [
        "!time ./kernel 10 20 && sleep 2"
      ],
      "metadata": {
        "id": "HDf75k0A2MTP",
        "outputId": "2842365c-1fae-42f4-bedd-8c2a3b382900",
        "colab": {
          "base_uri": "https://localhost:8080/"
        }
      },
      "execution_count": null,
      "outputs": [
        {
          "output_type": "stream",
          "name": "stdout",
          "text": [
            "Processing matrixs from 0 to 9\n",
            "All multiplications completed successfully!\n",
            "\n",
            "real\t0m1.909s\n",
            "user\t0m1.742s\n",
            "sys\t0m0.148s\n"
          ]
        }
      ]
    },
    {
      "cell_type": "code",
      "source": [],
      "metadata": {
        "id": "b0JjQqd42RVd"
      },
      "execution_count": null,
      "outputs": []
    }
  ]
}