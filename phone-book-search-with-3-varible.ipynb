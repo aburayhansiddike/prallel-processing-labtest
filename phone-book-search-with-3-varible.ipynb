{
  "nbformat": 4,
  "nbformat_minor": 0,
  "metadata": {
    "colab": {
      "provenance": [],
      "gpuType": "T4"
    },
    "kernelspec": {
      "name": "python3",
      "display_name": "Python 3"
    },
    "language_info": {
      "name": "python"
    },
    "accelerator": "GPU"
  },
  "cells": [
    {
      "cell_type": "code",
      "source": [
        "from google.colab import drive\n",
        "drive.mount('/content/drive')"
      ],
      "metadata": {
        "id": "XglWQg6Z2mSs",
        "outputId": "ec9116ca-b39f-4f9b-e838-1b425c4035e1",
        "colab": {
          "base_uri": "https://localhost:8080/"
        }
      },
      "execution_count": 1,
      "outputs": [
        {
          "output_type": "stream",
          "name": "stdout",
          "text": [
            "Mounted at /content/drive\n"
          ]
        }
      ]
    },
    {
      "cell_type": "code",
      "execution_count": 26,
      "metadata": {
        "colab": {
          "base_uri": "https://localhost:8080/"
        },
        "id": "NPA1y_P8atsN",
        "outputId": "c99ccb80-b013-42f9-a624-1e280e9b5eb8"
      },
      "outputs": [
        {
          "output_type": "stream",
          "name": "stdout",
          "text": [
            "Overwriting phonebook_search.cu\n"
          ]
        }
      ],
      "source": [
        "%%writefile phonebook_search.cu\n",
        "#include <bits/stdc++.h>\n",
        "\n",
        "using namespace std;\n",
        "\n",
        "ifstream phonebook(\"/content/drive/MyDrive/pralllel-processing-dataset/labtest_dataset2.txt\");\n",
        "\n",
        "string getInput() {\n",
        "  char ch;\n",
        "  string str;\n",
        "  bool reading = false;\n",
        "  while (phonebook.get(ch)) {\n",
        "    if (reading) {\n",
        "      if (ch == '\"') {\n",
        "        break;\n",
        "      }\n",
        "\n",
        "      str.push_back(ch);\n",
        "    } else if (ch == '\"') {\n",
        "      reading = true;\n",
        "    }\n",
        "  }\n",
        "  return str;\n",
        "}\n",
        "\n",
        "struct Contact {\n",
        "  char id[20];\n",
        "  char name[65];\n",
        "  char number[15];\n",
        "};\n",
        "\n",
        "vector<Contact> prepareContactList() {\n",
        "  vector<Contact> contactList;\n",
        "  while (phonebook.peek() != EOF) {\n",
        "    Contact contact;\n",
        "    strcpy(contact.id, getInput().c_str());\n",
        "    strcpy(contact.name, getInput().c_str());\n",
        "    strcpy(contact.number, getInput().c_str());\n",
        "    contactList.push_back(contact);\n",
        "  }\n",
        "  return contactList;\n",
        "}\n",
        "\n",
        "__device__ bool search(char *text, const char *term) {\n",
        "  int m = 0, n = 0;\n",
        "  while (text[m]) m++;\n",
        "  while (term[n]) n++;\n",
        "  if (m < n) {\n",
        "    return false;\n",
        "  }\n",
        "\n",
        "  for (int i = 0; i < m-n+1; i++) {\n",
        "    bool matched = true;\n",
        "    for (int j = 0; j < n; j++) {\n",
        "      if (text[i+j] != term[j]) {\n",
        "        matched = false;\n",
        "        break;\n",
        "      }\n",
        "    }\n",
        "    if (matched) {\n",
        "      return true;\n",
        "    }\n",
        "  }\n",
        "  return false;\n",
        "}\n",
        "\n",
        "__global__ void kernel(char *d_term, Contact *d_contacts, int offset) {\n",
        "  if (search(d_contacts[threadIdx.x+offset].name, d_term)) {\n",
        "    printf(\"Kernel %d %s %s\\n\", threadIdx.x + offset, d_contacts[threadIdx.x+offset].name, d_contacts[threadIdx.x+offset].number);\n",
        "  }\n",
        "}\n",
        "\n",
        "int main(int argc, char* argv[]) {\n",
        "  if (argc < 3) {\n",
        "    cout << \"Too few arguments.\" << endl;\n",
        "    return 1;\n",
        "  }\n",
        "  vector<Contact> contactList = prepareContactList();\n",
        "\n",
        "  int n = contactList.size();\n",
        "  cout << n << '\\n';\n",
        "  int threads = atoi(argv[1]);\n",
        "  string term = \"\";\n",
        "  for (int i = 2; i < argc; i++) {\n",
        "    if (i != 2) {\n",
        "      term += \" \";\n",
        "    }\n",
        "    term += argv[i];\n",
        "  }\n",
        "\n",
        "\n",
        "  char *d_term;\n",
        "  cudaMalloc(&d_term, sizeof(term));\n",
        "  cudaMemcpy(d_term, (char *)term.c_str(), sizeof(term), cudaMemcpyHostToDevice);\n",
        "\n",
        "  Contact *d_contacts;\n",
        "  cudaMalloc(&d_contacts, n * sizeof(Contact));\n",
        "  cudaMemcpy(d_contacts, contactList.data(), n * sizeof(Contact), cudaMemcpyHostToDevice);\n",
        "\n",
        "  int remaining = n;\n",
        "  while (remaining) {\n",
        "    int tLimit = min(threads, remaining);\n",
        "    kernel<<<1,tLimit>>>(d_term, d_contacts, n-remaining);\n",
        "    remaining -= tLimit;\n",
        "  }\n",
        "  cudaDeviceSynchronize();\n",
        "\n",
        "\n",
        "  return 0;\n",
        "}"
      ]
    },
    {
      "cell_type": "code",
      "source": [
        "!nvcc -arch=sm_75 phonebook_search.cu -o phonebook_search"
      ],
      "metadata": {
        "id": "2QQ-Vggha1o0"
      },
      "execution_count": 32,
      "outputs": []
    },
    {
      "cell_type": "code",
      "source": [
        "!time ./phonebook_search 4 RIPON ROY > output.txt"
      ],
      "metadata": {
        "colab": {
          "base_uri": "https://localhost:8080/"
        },
        "outputId": "f2d6493a-4734-4249-c044-6ce365e6328d",
        "id": "vQ7Im2zgFInU"
      },
      "execution_count": 33,
      "outputs": [
        {
          "output_type": "stream",
          "name": "stdout",
          "text": [
            "\n",
            "real\t0m30.454s\n",
            "user\t0m25.827s\n",
            "sys\t0m4.180s\n"
          ]
        }
      ]
    },
    {
      "cell_type": "code",
      "source": [
        "!cat output.txt |"
      ],
      "metadata": {
        "id": "vmNqAsitgIwE",
        "colab": {
          "base_uri": "https://localhost:8080/"
        },
        "outputId": "098dd171-eefe-4277-bb3f-4c49a81bba6c"
      },
      "execution_count": 35,
      "outputs": [
        {
          "output_type": "stream",
          "name": "stdout",
          "text": [
            "18147953\n",
            "Kernel 60672 RIPON ROY 013 88 872\n",
            "Kernel 159542 RIPON ROY 016 58 888\n",
            "Kernel 682720 RIPON ROY 011 08 714\n",
            "Kernel 996885 RIPON ROY 011 00 344\n",
            "Kernel 1003547 RIPON ROY 011 62 125\n",
            "Kernel 1633638 RIPON ROY 018 34 273\n",
            "Kernel 1633976 RIPON ROY 017 54 754\n",
            "Kernel 1664005 RIPON ROY 011 65 733\n",
            "Kernel 1664074 RIPON ROY 016 88 545\n",
            "Kernel 1666816 RIPON ROY 015 07 817\n",
            "Kernel 1667031 RIPON ROY 012 61 683\n",
            "Kernel 1667355 RIPON ROY 015 76 706\n",
            "Kernel 1677498 RIPON ROY 011 75 731\n",
            "Kernel 1711591 RIPON ROY 013 87 527\n",
            "Kernel 1711595 RIPON ROY 018 82 251\n",
            "Kernel 1724373 RIPON ROY 016 70 066\n",
            "Kernel 1725052 RIPON ROY 016 16 483\n",
            "Kernel 1725460 RIPON ROY 015 73 635\n",
            "Kernel 1726842 RIPON ROY 015 28 004\n",
            "Kernel 1730227 RIPON ROY RONI 013 04 255\n",
            "Kernel 1731509 RIPON ROY 013 23 840\n",
            "Kernel 1733558 RIPON ROY 014 81 288\n",
            "Kernel 1733597 RIPON ROY 016 86 585\n",
            "Kernel 1734875 RIPON ROY 014 64 012\n",
            "Kernel 1736055 RIPON ROY 012 32 178\n",
            "Kernel 1744791 RIPON ROY 013 30 275\n",
            "Kernel 1751068 RIPON ROY 016 23 884\n",
            "Kernel 1759617 RIPON ROY 012 35 880\n",
            "Kernel 1759993 RIPON ROY 017 12 866\n",
            "Kernel 1760753 RIPON ROY 011 16 276\n",
            "Kernel 1784908 RIPON ROY 017 56 635\n",
            "Kernel 1785435 RIPON ROY 016 86 774\n",
            "Kernel 1820040 RIPON ROY 014 17 478\n",
            "Kernel 1820048 RIPON ROY 013 87 317\n",
            "Kernel 1820735 RIPON ROY 015 47 412\n",
            "Kernel 1822365 RIPON ROY 016 43 640\n",
            "Kernel 1827697 KRIPON ROY 017 75 300\n",
            "Kernel 1832630 RIPON ROY 011 55 308\n",
            "Kernel 1835413 RIPON ROY 014 65 475\n",
            "Kernel 1864135 RIPON ROY 013 17 741\n",
            "Kernel 1890329 RIPON ROY 018 05 683\n",
            "Kernel 1890614 RIPON ROY 016 30 846\n",
            "Kernel 1893744 RIPON ROY 017 74 133\n",
            "Kernel 1894232 RIPON ROY 018 68 457\n",
            "Kernel 1894296 RIPON ROY 013 18 057\n",
            "Kernel 1894970 RIPON ROY 011 57 408\n",
            "Kernel 1898468 RIPON ROY 015 27 323\n",
            "Kernel 1921679 RIPON ROY 013 24 621\n",
            "Kernel 1924794 RIPON ROY 016 45 317\n",
            "Kernel 1924815 RIPON ROY 016 70 504\n",
            "Kernel 1935094 RIPON ROY 014 06 420\n",
            "Kernel 2145354 RIPON ROY 015 33 504\n",
            "Kernel 2904659 RIPON ROY 012 40 630\n",
            "Kernel 3020387 RIPON ROY 017 24 837\n",
            "Kernel 3126045 RIPON ROY 015 07 184\n",
            "Kernel 3140196 RIPON ROY 016 23 236\n",
            "Kernel 3180125 RIPON ROY 011 36 385\n",
            "Kernel 3182843 RIPON ROY 012 47 735\n",
            "Kernel 3321816 RIPON ROY 012 30 088\n",
            "Kernel 3321817 RIPON ROY 017 28 684\n",
            "Kernel 3321818 RIPON ROY 017 48 125\n",
            "Kernel 3321819 RIPON ROY 012 07 638\n",
            "Kernel 3426938 RIPON ROY 017 60 086\n",
            "Kernel 3426939 RIPON ROY 017 63 823\n",
            "Kernel 3426940 RIPON ROY 013 50 385\n",
            "Kernel 3529717 RIPON ROY 018 03 782\n",
            "Kernel 3797471 RIPON ROY 012 74 077\n",
            "Kernel 4158785 RIPON ROY 014 83 014\n",
            "Kernel 4403944 RIPON ROY 016 04 265\n",
            "Kernel 4420337 RIPON ROY 016 70 435\n",
            "Kernel 4460178 RIPON ROY 012 05 754\n",
            "Kernel 4460516 RIPON ROY 018 22 713\n",
            "Kernel 4460717 RIPON ROY 017 32 253\n",
            "Kernel 4460740 RIPON ROY 018 87 343\n",
            "Kernel 4461301 RIPON ROY 014 77 753\n",
            "Kernel 4461312 RIPON ROY 016 25 880\n",
            "Kernel 4461376 RIPON ROY 013 16 280\n",
            "Kernel 4461381 RIPON ROY 013 44 062\n",
            "Kernel 4461967 RIPON ROY 014 15 328\n",
            "Kernel 4462851 RIPON ROY 017 83 162\n",
            "Kernel 4463394 RIPON ROY 012 60 850\n",
            "Kernel 4464765 RIPON ROY 014 82 854\n",
            "Kernel 4465091 RIPON ROY 018 70 726\n",
            "Kernel 4471849 RIPON ROY 014 66 210\n",
            "Kernel 4476201 RIPON ROY 014 61 620\n",
            "Kernel 4477318 RIPON ROY 015 76 832\n",
            "Kernel 4495076 RIPON ROY 016 85 250\n",
            "Kernel 4506320 RIPON ROY 015 36 023\n",
            "Kernel 4510998 RIPON ROY 011 82 884\n",
            "Kernel 4523891 RIPON ROY 014 75 711\n",
            "Kernel 4530722 RIPON ROY 014 57 356\n",
            "Kernel 4530995 RIPON ROY 017 42 872\n",
            "Kernel 4532793 RIPON ROY ARGHO 011 85 056\n",
            "Kernel 4533082 RIPON ROY 012 77 533\n",
            "Kernel 4537736 RIPON ROY 013 08 531\n",
            "Kernel 4539962 RIPON ROY 013 30 280\n",
            "Kernel 4545108 RIPON ROY 018 61 413\n",
            "Kernel 4545168 RIPON ROY 013 64 358\n",
            "Kernel 4546196 RIPON ROY 017 14 830\n",
            "Kernel 4546829 RIPON ROY 017 55 181\n",
            "Kernel 4547393 RIPON ROY 015 13 371\n",
            "Kernel 4558307 RIPON ROY 017 08 644\n",
            "Kernel 4560672 RIPON ROY 015 48 177\n",
            "Kernel 4561309 RIPON ROY 012 25 384\n",
            "Kernel 4562549 RIPON ROY 011 64 475\n",
            "Kernel 4572399 RIPON ROY 014 20 434\n",
            "Kernel 4578919 RIPON ROY 015 65 732\n",
            "Kernel 4580183 RIPON ROY 013 67 788\n",
            "Kernel 4580274 RIPON ROY 017 61 426\n",
            "Kernel 4585406 RIPON ROY 015 12 748\n",
            "Kernel 4652488 RIPON ROY 013 45 337\n",
            "Kernel 4663214 RIPON ROY 015 73 306\n"
          ]
        }
      ]
    }
  ]
}