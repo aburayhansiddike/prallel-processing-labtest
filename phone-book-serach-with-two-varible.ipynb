{
  "nbformat": 4,
  "nbformat_minor": 0,
  "metadata": {
    "colab": {
      "provenance": [],
      "gpuType": "T4"
    },
    "kernelspec": {
      "name": "python3",
      "display_name": "Python 3"
    },
    "language_info": {
      "name": "python"
    },
    "accelerator": "GPU"
  },
  "cells": [
    {
      "cell_type": "code",
      "execution_count": null,
      "metadata": {
        "colab": {
          "base_uri": "https://localhost:8080/"
        },
        "id": "NPA1y_P8atsN",
        "outputId": "ac0ced94-b423-40d2-b446-d3f8b135387f"
      },
      "outputs": [
        {
          "output_type": "stream",
          "name": "stdout",
          "text": [
            "Overwriting phonebook_search.cu\n"
          ]
        }
      ],
      "source": [
        "%%writefile phonebook_search.cu\n",
        "#include <bits/stdc++.h>\n",
        "\n",
        "using namespace std;\n",
        "\n",
        "ifstream phonebook(\"/content/phonebook.txt\");\n",
        "\n",
        "string getInput() {\n",
        "  char ch;\n",
        "  string str;\n",
        "  bool reading = false;\n",
        "  while (phonebook.get(ch)) {\n",
        "    if (reading) {\n",
        "      if (ch == '\"') {\n",
        "        break;\n",
        "      }\n",
        "\n",
        "      str.push_back(ch);\n",
        "    } else if (ch == '\"') {\n",
        "      reading = true;\n",
        "    }\n",
        "  }\n",
        "  return str;\n",
        "}\n",
        "\n",
        "struct Contact {\n",
        "  char name[65];\n",
        "  char number[15];\n",
        "};\n",
        "\n",
        "vector<Contact> prepareContactList() {\n",
        "  vector<Contact> contactList;\n",
        "  while (phonebook.peek() != EOF) {\n",
        "    Contact contact;\n",
        "    strcpy(contact.name, getInput().c_str());\n",
        "    strcpy(contact.number, getInput().c_str());\n",
        "    contactList.push_back(contact);\n",
        "  }\n",
        "  return contactList;\n",
        "}\n",
        "\n",
        "__device__ bool search(char *text, const char *term) {\n",
        "  int m = 0, n = 0;\n",
        "  while (text[m]) m++;\n",
        "  while (term[n]) n++;\n",
        "  if (m < n) {\n",
        "    return false;\n",
        "  }\n",
        "\n",
        "  for (int i = 0; i < m-n+1; i++) {\n",
        "    bool matched = true;\n",
        "    for (int j = 0; j < n; j++) {\n",
        "      if (text[i+j] != term[j]) {\n",
        "        matched = false;\n",
        "        break;\n",
        "      }\n",
        "    }\n",
        "    if (matched) {\n",
        "      return true;\n",
        "    }\n",
        "  }\n",
        "  return false;\n",
        "}\n",
        "\n",
        "__global__ void kernel(char *d_term, Contact *d_contacts, int offset) {\n",
        "  if (search(d_contacts[threadIdx.x+offset].name, d_term)) {\n",
        "    printf(\"Kernel %d %s %s\\n\", threadIdx.x + offset, d_contacts[threadIdx.x+offset].name, d_contacts[threadIdx.x+offset].number);\n",
        "  }\n",
        "}\n",
        "\n",
        "int main(int argc, char* argv[]) {\n",
        "  if (argc < 3) {\n",
        "    cout << \"Too few arguments.\" << endl;\n",
        "    return 1;\n",
        "  }\n",
        "  vector<Contact> contactList = prepareContactList();\n",
        "  int n = contactList.size();\n",
        "  int threads = atoi(argv[1]);\n",
        "  string term = \"\";\n",
        "  for (int i = 2; i < argc; i++) {\n",
        "    if (i != 2) {\n",
        "      term += \" \";\n",
        "    }\n",
        "    term += argv[i];\n",
        "  }\n",
        "\n",
        "  /*\n",
        "  for (Contact contact : contactList) {\n",
        "    if (search(contact.name, term.c_str())) {\n",
        "      cout << contact.name << ' ' << contact.number << endl;\n",
        "    }\n",
        "  }\n",
        "  */\n",
        "\n",
        "  char *d_term;\n",
        "  cudaMalloc(&d_term, sizeof(term));\n",
        "  cudaMemcpy(d_term, (char *)term.c_str(), sizeof(term), cudaMemcpyHostToDevice);\n",
        "\n",
        "  Contact *d_contacts;\n",
        "  cudaMalloc(&d_contacts, n * sizeof(Contact));\n",
        "  cudaMemcpy(d_contacts, contactList.data(), n * sizeof(Contact), cudaMemcpyHostToDevice);\n",
        "\n",
        "  int remaining = n;\n",
        "  while (remaining) {\n",
        "    int tLimit = min(threads, remaining);\n",
        "    kernel<<<1,tLimit>>>(d_term, d_contacts, n-remaining);\n",
        "    remaining -= tLimit;\n",
        "  }\n",
        "  cudaDeviceSynchronize();\n",
        "\n",
        "  return 0;\n",
        "}"
      ]
    },
    {
      "cell_type": "code",
      "source": [
        "!nvcc -arch=sm_75 phonebook_search.cu -o phonebook_search"
      ],
      "metadata": {
        "id": "2QQ-Vggha1o0"
      },
      "execution_count": null,
      "outputs": []
    },
    {
      "cell_type": "code",
      "source": [
        "!time ./phonebook_search 5 ri"
      ],
      "metadata": {
        "colab": {
          "base_uri": "https://localhost:8080/"
        },
        "id": "2P9RgTUWbwGs",
        "outputId": "2f5e6ff5-42a3-423f-b728-0e6b3db99418"
      },
      "execution_count": null,
      "outputs": [
        {
          "output_type": "stream",
          "name": "stdout",
          "text": [
            "Kernel 3 Ami Pari Na 4444444\n",
            "Kernel 1 Alex Hari Son 01959041234\n",
            "Kernel 2 Hiya Afrin 01888\n",
            "Kernel 6 Ami Pari Na 4444444\n",
            "Kernel 9 Ami Pari Na 4444444\n",
            "Kernel 5 Alex Hari Son 01959041234\n",
            "Kernel 8 Alex Hari Son 01959041234\n",
            "Kernel 12 Ami Pari Na 4444444\n",
            "Kernel 11 Alex Hari Son 01959041234\n",
            "Kernel 14 Alex Hari Son 01959041234\n",
            "Kernel 15 Ami Pari Na 4444444\n",
            "\n",
            "real\t0m0.113s\n",
            "user\t0m0.015s\n",
            "sys\t0m0.096s\n"
          ]
        }
      ]
    },
    {
      "cell_type": "code",
      "source": [],
      "metadata": {
        "id": "vmNqAsitgIwE"
      },
      "execution_count": null,
      "outputs": []
    }
  ]
}